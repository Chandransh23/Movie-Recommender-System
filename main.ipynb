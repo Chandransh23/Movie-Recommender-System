{
 "cells": [
  {
   "cell_type": "code",
   "execution_count": null,
   "id": "670d880a",
   "metadata": {},
   "outputs": [],
   "source": []
  },
  {
   "cell_type": "code",
   "execution_count": 1,
   "id": "352f6d3d",
   "metadata": {},
   "outputs": [
    {
     "ename": "TypeError",
     "evalue": "DataFrame.drop() takes from 1 to 2 positional arguments but 3 were given",
     "output_type": "error",
     "traceback": [
      "\u001b[1;31m---------------------------------------------------------------------------\u001b[0m",
      "\u001b[1;31mTypeError\u001b[0m                                 Traceback (most recent call last)",
      "Cell \u001b[1;32mIn[1], line 14\u001b[0m\n\u001b[0;32m     11\u001b[0m tags\u001b[39m.\u001b[39mhead()\n\u001b[0;32m     12\u001b[0m movies\u001b[39m.\u001b[39mhead()\n\u001b[1;32m---> 14\u001b[0m movies\u001b[39m=\u001b[39mmovies\u001b[39m.\u001b[39;49mdrop(\u001b[39m'\u001b[39;49m\u001b[39mgenres\u001b[39;49m\u001b[39m'\u001b[39;49m,\u001b[39m1\u001b[39;49m)\n\u001b[0;32m     15\u001b[0m movies\u001b[39m.\u001b[39mhead()\n\u001b[0;32m     17\u001b[0m ratings\u001b[39m.\u001b[39mhead()\n",
      "\u001b[1;31mTypeError\u001b[0m: DataFrame.drop() takes from 1 to 2 positional arguments but 3 were given"
     ]
    }
   ],
   "source": [
    "import pandas as pd\n",
    "import warnings\n",
    "warnings.filterwarnings(\"ignore\")\n",
    "\n",
    "movies=pd.read_csv('movies.csv')\n",
    "ratings=pd.read_csv('ratings.csv')\n",
    "links=pd.read_csv('links.csv')\n",
    "tags=pd.read_csv('tags.csv')\n",
    "\n",
    "links.head()\n",
    "tags.head()\n",
    "movies.head()\n",
    "\n",
    "movies=movies.drop('genres',1)\n",
    "movies.head()\n",
    "\n",
    "ratings.head()\n",
    "\n",
    "ratings=ratings.drop('timestamp',1)\n",
    "ratings.head()\n",
    "\n",
    "df=pd.merge(movies,ratings,on='movieId')\n",
    "df.head()\n",
    "\n",
    "df.groupby('title')['rating'].mean().sort_values(ascending=False).head()\n",
    "\n",
    "df.groupby('title')['rating'].count().sort_values(ascending=False).head()\n",
    "\n",
    "ploting = pd.DataFrame(df.groupby('title')['rating'].mean())\n",
    "ploting.head()\n",
    "\n",
    "new_df=ratings.pivot_table(index='movieId',columns='userId',values='rating').fillna(0)\n",
    "new_df.head()\n",
    "\n",
    "from scipy.sparse import csr_matrix\n",
    "\n",
    "matched_movies=csr_matrix(new_df.values)\n",
    "\n",
    "from sklearn.neighbors import NearestNeighbors\n",
    "model=NearestNeighbors(metric='cosine',algorithm='brute',n_neighbors=20)\n",
    "model.fit(matched_movies)\n",
    "\n",
    "from fuzzywuzzy import process\n",
    "\n",
    "def similar_recommend(movie_name,data,n):\n",
    "    index=process.extractOne(movie_name,movies['title'])[2]\n",
    "    print('Movie you selected is : ',movies['title'][index])\n",
    "    print('Index:',index)\n",
    "    distance,indices=model.kneighbors(data[index],n_neighbors=n)\n",
    "    print('Cosine distances are : ',distance)\n",
    "    print('Indices of the recommended movies are : ',indices)\n",
    "    print('Recommended movies are : ')\n",
    "    for i in indices:\n",
    "        print(movies['title'][i].where(i!=index))\n",
    "    print(\"movie name not matched\")\n",
    "\n",
    "movie= input(\"Enter the movie: \")\n",
    "\n",
    "n=int(input(\"Enter the number of similar movies you want to see: \"))\n",
    "\n",
    "similar_recommend(movie,matched_movies,n+1)"
   ]
  },
  {
   "cell_type": "code",
   "execution_count": null,
   "id": "0227ec1c",
   "metadata": {},
   "outputs": [],
   "source": []
  },
  {
   "cell_type": "code",
   "execution_count": null,
   "id": "79be8e40",
   "metadata": {},
   "outputs": [],
   "source": []
  }
 ],
 "metadata": {
  "kernelspec": {
   "display_name": "Python 3",
   "language": "python",
   "name": "python3"
  },
  "language_info": {
   "codemirror_mode": {
    "name": "ipython",
    "version": 3
   },
   "file_extension": ".py",
   "mimetype": "text/x-python",
   "name": "python",
   "nbconvert_exporter": "python",
   "pygments_lexer": "ipython3",
   "version": "3.10.11"
  }
 },
 "nbformat": 4,
 "nbformat_minor": 5
}
